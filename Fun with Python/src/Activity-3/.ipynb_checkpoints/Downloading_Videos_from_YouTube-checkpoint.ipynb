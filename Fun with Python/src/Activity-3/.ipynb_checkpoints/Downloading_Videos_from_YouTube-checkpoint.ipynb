{
 "cells": [
  {
   "cell_type": "code",
   "execution_count": 7,
   "metadata": {},
   "outputs": [
    {
     "name": "stdout",
     "output_type": "stream",
     "text": [
      "Download Successfull !!\n"
     ]
    }
   ],
   "source": [
    "from pytube import  YouTube  \n",
    "import pytube  \n",
    "try:\n",
    "    video_url = 'https://www.youtube.com/watch?v=rUWxSEwctFU'      # mention the YouTube address there\n",
    "    youtube = pytube.YouTube(video_url)  \n",
    "    video = youtube.streams.first()  \n",
    "    video.download('./')      # provide the directory location where you want the downloaded YouTube video to be stored.\n",
    "    print(\"Download Successfull !!\")\n",
    "except:\n",
    "    print(\"Something Went Wrong !!\")"
   ]
  },
  {
   "cell_type": "code",
   "execution_count": null,
   "metadata": {},
   "outputs": [],
   "source": []
  }
 ],
 "metadata": {
  "kernelspec": {
   "display_name": "Python 3 (ipykernel)",
   "language": "python",
   "name": "python3"
  },
  "language_info": {
   "codemirror_mode": {
    "name": "ipython",
    "version": 3
   },
   "file_extension": ".py",
   "mimetype": "text/x-python",
   "name": "python",
   "nbconvert_exporter": "python",
   "pygments_lexer": "ipython3",
   "version": "3.8.11"
  },
  "vscode": {
   "interpreter": {
    "hash": "83f2b70ede8cf361177c9d5424a3a5747d0d1a1236601ee5af02404c2fa22e8a"
   }
  }
 },
 "nbformat": 4,
 "nbformat_minor": 2
}
