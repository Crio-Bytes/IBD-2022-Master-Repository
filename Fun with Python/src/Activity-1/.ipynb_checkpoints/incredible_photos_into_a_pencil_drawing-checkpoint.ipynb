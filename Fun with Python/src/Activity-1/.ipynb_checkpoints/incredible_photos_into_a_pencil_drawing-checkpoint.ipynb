{
 "cells": [
  {
   "cell_type": "code",
   "execution_count": null,
   "metadata": {},
   "outputs": [],
   "source": [
    "  import cv2\n",
    "  img = cv2.imread(\"picture.jpg\")     # give the location of the photo you wish to turn into a pencil drawing.\n",
    "\n",
    "  ## Image to Gray Image\n",
    "  gray_image = cv2.cvtColor(img,cv2.COLOR_BGR2GRAY)\n",
    "\n",
    "  ## Gray Image to Inverted Gray Image\n",
    "  inverted_gray_image = 255-gray_image\n",
    "\n",
    "  ## Blurring The Inverted Gray Image\n",
    "  blurred_inverted_gray_image = cv2.GaussianBlur(inverted_gray_image, (19,19),0)    #GaussianBlur technique is used there\n",
    "\n",
    "  ## Inverting the blurred image\n",
    "  inverted_blurred_image = 255-blurred_inverted_gray_image\n",
    "\n",
    "  ### Preparing Photo sketching\n",
    "  sketck = cv2.divide(gray_image, inverted_blurred_image,scale= 256.0)\n",
    "\n",
    "  cv2.imshow(\"Original Image\",img)\n",
    "  cv2.imshow(\"Pencil Sketch\", sketck)\n",
    "  cv2.waitKey(0)"
   ]
  }
 ],
 "metadata": {
  "kernelspec": {
   "display_name": "Python 3 (ipykernel)",
   "language": "python",
   "name": "python3"
  },
  "language_info": {
   "codemirror_mode": {
    "name": "ipython",
    "version": 3
   },
   "file_extension": ".py",
   "mimetype": "text/x-python",
   "name": "python",
   "nbconvert_exporter": "python",
   "pygments_lexer": "ipython3",
   "version": "3.8.11"
  },
  "vscode": {
   "interpreter": {
    "hash": "83f2b70ede8cf361177c9d5424a3a5747d0d1a1236601ee5af02404c2fa22e8a"
   }
  }
 },
 "nbformat": 4,
 "nbformat_minor": 2
}
