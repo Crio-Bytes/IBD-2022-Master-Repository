{
 "cells": [
  {
   "cell_type": "markdown",
   "id": "9fea9fdd",
   "metadata": {},
   "source": [
    "# How to use Python to Extract GPS data from Photos\n",
    "<hr/>"
   ]
  },
  {
   "cell_type": "markdown",
   "id": "28a7b332",
   "metadata": {},
   "source": [
    "# Activity 1: Import python libraries and Load the Image\n"
   ]
  },
  {
   "cell_type": "markdown",
   "id": "760bf476",
   "metadata": {},
   "source": [
    "1. ***Pillow*** is used to load the image and obtain the metadata.\n",
    "\n",
    "Run the following command in **cmd** or **command prompt** to install pillow:\n",
    "    pip install pillow\n",
    "\n",
    "2. ***Geopy*** to get the actual address once we get the GPS location.\n",
    "\n",
    "Run the following command in **cmd** or **command prompt** to install geopy:\n",
    "    pip install geopy\n",
    "\n",
    "3. ***Gmplot*** is using to mark this place on a map and save it as an html file. \n",
    "\n",
    "Run the following command in **cmd** or **command prompt** to install gmplot:\n",
    "    pip install gmplot\n",
    "\n",
    "\n",
    "4. **pprint** module allows you to **\"pretty-print\"** arbitrary Python data structures in a more understandable and well-formatted manner!\n",
    "\n",
    "Run the following command in **cmd** or **command prompt** to install pprint:\n",
    "    pip install pprint\n",
    "\n",
    "### You also need to know some Terminologies here:\n",
    "1. ***Exif***\n",
    "    - **EXIF stands for 'Exchangeable Image File Format'**, and it refers to the basic metadata that your camera generates and stores whenever you take a photo.\n",
    "    - In photography, EXIF data is commonly used to refer to a photograph's aperture, shutter speed, ISO, metering, white balance, camera model, lens specifications, and so on.\n",
    "    - EXIF data and other important information is stored in modern cameras and mobile phones.\n",
    "\n",
    "2. ***Nominatim*** geocoder for OpenStreetMap data.\n"
   ]
  },
  {
   "cell_type": "code",
   "execution_count": null,
   "id": "7383e96d",
   "metadata": {},
   "outputs": [],
   "source": [
    "import PIL.Image\n",
    "import PIL.ExifTags\n",
    "import pprint\n",
    "from geopy.geocoders import Nominatim"
   ]
  },
  {
   "cell_type": "code",
   "execution_count": null,
   "id": "24e31139",
   "metadata": {},
   "outputs": [],
   "source": [
    "img=PIL.Image.open(\"\")               # put the path of your image in double inverted commas"
   ]
  },
  {
   "cell_type": "markdown",
   "id": "89546ac5",
   "metadata": {},
   "source": [
    "# Activity 2: Obtaining Metadata"
   ]
  },
  {
   "cell_type": "markdown",
   "id": "0bdefce0",
   "metadata": {},
   "source": [
    "We are fetching the information from the image and convert it into dictionary."
   ]
  },
  {
   "cell_type": "code",
   "execution_count": null,
   "id": "9404df78",
   "metadata": {},
   "outputs": [],
   "source": [
    "exif={\n",
    "    PIL.ExifTags.TAGS[k]: v\n",
    "    for k,v in img._getexif().items()\n",
    "    if k in PIL.ExifTags.TAGS\n",
    "}\n"
   ]
  },
  {
   "cell_type": "markdown",
   "id": "f3057053",
   "metadata": {},
   "source": [
    "# Challenge\n",
    "print the exif variable and see the data"
   ]
  },
  {
   "cell_type": "code",
   "execution_count": null,
   "id": "d4369222",
   "metadata": {},
   "outputs": [],
   "source": []
  },
  {
   "cell_type": "markdown",
   "id": "d9033f64",
   "metadata": {},
   "source": [
    "Solution: print(exif)"
   ]
  },
  {
   "cell_type": "code",
   "execution_count": null,
   "id": "d0c3c345",
   "metadata": {},
   "outputs": [],
   "source": [
    "# to see the dictionary in beautiful way\n",
    "pprint.pprint(exif)"
   ]
  },
  {
   "cell_type": "markdown",
   "id": "3cfff887",
   "metadata": {},
   "source": [
    "## Obtaining GPS Info\n",
    "GPS information is saved in a dictionary which can be accessed using the key GPSInfo from the dictionary exif."
   ]
  },
  {
   "cell_type": "markdown",
   "id": "4c5bed66",
   "metadata": {},
   "source": [
    "# Challenge \n",
    "from the above dictionary exif , fetch the value of ***GPSInfo***"
   ]
  },
  {
   "cell_type": "code",
   "execution_count": null,
   "id": "dc99eebf",
   "metadata": {},
   "outputs": [],
   "source": []
  },
  {
   "cell_type": "markdown",
   "id": "1c714ed4",
   "metadata": {},
   "source": [
    "Solution:\n",
    "exif['GPSInfo']"
   ]
  },
  {
   "cell_type": "markdown",
   "id": "02f9e4f0",
   "metadata": {},
   "source": [
    "# Activity 3: Getting Coordinates\n",
    "**2** and **4** are given in degrees, seconds, and minutes. For charting, this must be translated to degrees.\n",
    "\n",
    "**1** and **3** specifies the location's direction. It is possible to use N for North and S for South. If **1** is S, a negative latitude value must be used.\n",
    "Similarly, if **3** is W, a negative longitude value is to be utilised."
   ]
  },
  {
   "cell_type": "code",
   "execution_count": null,
   "id": "8444f2ef",
   "metadata": {},
   "outputs": [],
   "source": [
    "north=exif['GPSInfo'][2]\n",
    "east=exif['GPSInfo'][4]"
   ]
  },
  {
   "cell_type": "code",
   "execution_count": null,
   "id": "c76fe3a4",
   "metadata": {},
   "outputs": [],
   "source": [
    "lat=((((north[0]*60)+north[1])*60)+north[2])/60/60\n",
    "long=((((east[0]*60)+east[1])*60)+east[2])/60/60"
   ]
  },
  {
   "cell_type": "code",
   "execution_count": null,
   "id": "ff923845",
   "metadata": {},
   "outputs": [],
   "source": [
    "lat,long=float(lat),float(long)"
   ]
  },
  {
   "cell_type": "markdown",
   "id": "af63d354",
   "metadata": {},
   "source": [
    "# Challenge\n",
    "print the lat and long variable"
   ]
  },
  {
   "cell_type": "code",
   "execution_count": null,
   "id": "a16e47c4",
   "metadata": {},
   "outputs": [],
   "source": []
  },
  {
   "cell_type": "markdown",
   "id": "f0dd41d9",
   "metadata": {},
   "source": [
    "Solution: print(lat,long)"
   ]
  },
  {
   "cell_type": "markdown",
   "id": "5871c4c9",
   "metadata": {},
   "source": [
    "# Activity 4: Getting the Actual Address of the Image\n"
   ]
  },
  {
   "cell_type": "code",
   "execution_count": null,
   "id": "c9299e6d",
   "metadata": {},
   "outputs": [],
   "source": [
    "geoLoc=Nominatim(user_agent=\"GetLoc\")\n",
    "\n",
    "locname=geoLoc.reverse(f\"{lat},{long}\")"
   ]
  },
  {
   "cell_type": "markdown",
   "id": "eea99077",
   "metadata": {},
   "source": [
    "# Challenge\n",
    "print the locname.address"
   ]
  },
  {
   "cell_type": "code",
   "execution_count": null,
   "id": "147d1177",
   "metadata": {},
   "outputs": [],
   "source": []
  },
  {
   "cell_type": "markdown",
   "id": "356d8d19",
   "metadata": {},
   "source": [
    "Solution: print(locname.address)"
   ]
  },
  {
   "cell_type": "markdown",
   "id": "cdc77d23",
   "metadata": {},
   "source": [
    "# Activity 5: Visualize the location on map\n",
    "We use gmplot to mark this place on a map and save it as an html file."
   ]
  },
  {
   "cell_type": "code",
   "execution_count": null,
   "id": "bd700a35",
   "metadata": {},
   "outputs": [],
   "source": [
    "from gmplot import gmplot\n",
    "\n",
    "gmap=gmplot.GoogleMapPlotter(lat,long,7)\n",
    "\n",
    "gmap.marker(lat,long)\n",
    "\n",
    "gmap.draw(\"location.html\")"
   ]
  },
  {
   "cell_type": "code",
   "execution_count": null,
   "id": "b23e246d",
   "metadata": {},
   "outputs": [],
   "source": []
  }
 ],
 "metadata": {
  "kernelspec": {
   "display_name": "Python 3",
   "language": "python",
   "name": "python3"
  },
  "language_info": {
   "codemirror_mode": {
    "name": "ipython",
    "version": 3
   },
   "file_extension": ".py",
   "mimetype": "text/x-python",
   "name": "python",
   "nbconvert_exporter": "python",
   "pygments_lexer": "ipython3",
   "version": "3.8.10 (tags/v3.8.10:3d8993a, May  3 2021, 11:48:03) [MSC v.1928 64 bit (AMD64)]"
  },
  "vscode": {
   "interpreter": {
    "hash": "83f2b70ede8cf361177c9d5424a3a5747d0d1a1236601ee5af02404c2fa22e8a"
   }
  }
 },
 "nbformat": 4,
 "nbformat_minor": 5
}
