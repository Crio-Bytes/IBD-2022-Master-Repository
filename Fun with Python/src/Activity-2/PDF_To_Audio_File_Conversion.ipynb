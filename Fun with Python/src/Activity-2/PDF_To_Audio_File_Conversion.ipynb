{
 "cells": [
  {
   "cell_type": "code",
   "execution_count": 3,
   "metadata": {},
   "outputs": [
    {
     "name": "stdout",
     "output_type": "stream",
     "text": [
      "Honesty  is always  the best policy.  It  is better  to lose something   temporarily  than  to lose your   honesty  and integrity  forever.\n"
     ]
    }
   ],
   "source": [
    "import pyttsx3,PyPDF2\n",
    "pdfreader = PyPDF2.PdfFileReader(open('story.pdf','rb')) \n",
    "speaker = pyttsx3.init()\n",
    "for page_num in range(pdfreader.numPages):   \n",
    "    text = pdfreader.getPage(page_num).extractText()  # extracting text from the PDF\n",
    "    cleaned_text = text.strip().replace('\\n',' ')  # Removes unnecessary spaces and break lines\n",
    "    print(cleaned_text)                # Print the text from PDF\n",
    "    speaker.say(cleaned_text)        # Let The Speaker Speak The Text\n",
    "    speaker.save_to_file(cleaned_text,'story.mp3')  # Saving Text In a audio file 'story.mp3'\n",
    "    speaker.runAndWait()\n",
    "speaker.stop()"
   ]
  }
 ],
 "metadata": {
  "kernelspec": {
   "display_name": "Python 3 (ipykernel)",
   "language": "python",
   "name": "python3"
  },
  "language_info": {
   "codemirror_mode": {
    "name": "ipython",
    "version": 3
   },
   "file_extension": ".py",
   "mimetype": "text/x-python",
   "name": "python",
   "nbconvert_exporter": "python",
   "pygments_lexer": "ipython3",
   "version": "3.8.11"
  },
  "vscode": {
   "interpreter": {
    "hash": "83f2b70ede8cf361177c9d5424a3a5747d0d1a1236601ee5af02404c2fa22e8a"
   }
  }
 },
 "nbformat": 4,
 "nbformat_minor": 2
}
